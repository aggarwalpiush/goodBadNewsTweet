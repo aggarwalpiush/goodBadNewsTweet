{
 "cells": [
  {
   "cell_type": "code",
   "execution_count": 1,
   "metadata": {},
   "outputs": [],
   "source": [
    "import codecs"
   ]
  },
  {
   "cell_type": "code",
   "execution_count": 9,
   "metadata": {},
   "outputs": [],
   "source": [
    "input_file = '/Users/aggarwalpiush/github_repos/tweetnewsdetection/data/step_one/classification_data/labels/labels.txt'\n",
    "labels = {}\n",
    "with codecs.open(input_file, 'r', 'utf-8') as in_obj:\n",
    "    for line in in_obj:\n",
    "        line = line.split('\\t')\n",
    "        labels[int(line[0].strip())] = int(line[1].strip().rstrip('\\r\\n').replace('\\n',''))\n",
    "        \n",
    "\n",
    "        "
   ]
  },
  {
   "cell_type": "code",
   "execution_count": 10,
   "metadata": {},
   "outputs": [
    {
     "data": {
      "text/plain": [
       "2992"
      ]
     },
     "execution_count": 10,
     "metadata": {},
     "output_type": "execute_result"
    }
   ],
   "source": [
    "len(labels.keys())"
   ]
  },
  {
   "cell_type": "code",
   "execution_count": 14,
   "metadata": {},
   "outputs": [
    {
     "name": "stdout",
     "output_type": "stream",
     "text": [
      "1006566899541598210 0\n",
      "1006566900237848577 0\n",
      "1006566900351062017 0\n",
      "1006566900392964096 0\n",
      "1006566901215059969 0\n",
      "1006566901663830017 0\n",
      "1006566902834089989 0\n",
      "1006566902980841475 0\n",
      "1006566903316471809 0\n",
      "1006566905279283200 1\n",
      "1006566906621505536 0\n"
     ]
    }
   ],
   "source": [
    "count = 0\n",
    "for k,v in labels.items():\n",
    "    print(k,v)\n",
    "    count += 1\n",
    "    if count > 10:\n",
    "        break"
   ]
  },
  {
   "cell_type": "code",
   "execution_count": 23,
   "metadata": {},
   "outputs": [
    {
     "name": "stdout",
     "output_type": "stream",
     "text": [
      "/Users/aggarwalpiush/github_repos/tweetnewsdetection/data/step_one/classification_data/categories/agu17.tsv\n",
      "1001\n",
      "1265\n",
      "/Users/aggarwalpiush/github_repos/tweetnewsdetection/data/step_one/classification_data/categories/Ebola.tsv\n",
      "1001\n",
      "1154\n",
      "/Users/aggarwalpiush/github_repos/tweetnewsdetection/data/step_one/classification_data/categories/swachhbharat.tsv\n",
      "840\n",
      "2274\n",
      "/Users/aggarwalpiush/github_repos/tweetnewsdetection/data/step_one/classification_data/categories/nintendo.tsv\n",
      "1001\n",
      "1001\n",
      "/Users/aggarwalpiush/github_repos/tweetnewsdetection/data/step_one/classification_data/categories/stockholm.tsv\n",
      "1001\n",
      "1210\n",
      "/Users/aggarwalpiush/github_repos/tweetnewsdetection/data/step_one/classification_data/categories/macerata.tsv\n",
      "1001\n",
      "1771\n",
      "/Users/aggarwalpiush/github_repos/tweetnewsdetection/data/step_one/classification_data/categories/hiv.tsv\n",
      "1001\n",
      "1799\n",
      "/Users/aggarwalpiush/github_repos/tweetnewsdetection/data/step_one/classification_data/categories/iot.tsv\n",
      "1001\n",
      "1055\n",
      "/Users/aggarwalpiush/github_repos/tweetnewsdetection/data/step_one/classification_data/categories/irma.tsv\n",
      "1001\n",
      "1204\n",
      "/Users/aggarwalpiush/github_repos/tweetnewsdetection/data/step_one/classification_data/categories/harvey_hurricane.tsv\n",
      "1001\n",
      "1143\n"
     ]
    }
   ],
   "source": [
    "import glob\n",
    "import os\n",
    "category_path = '/Users/aggarwalpiush/github_repos/tweetnewsdetection/data/step_one/classification_data/categories'\n",
    "tweet_text = {}\n",
    "tweet_domain = {}\n",
    "for file in glob.glob(category_path+'/*.tsv'):\n",
    "    f_count = 0\n",
    "    tweet_count = 0\n",
    "    print(file)\n",
    "    with codecs.open(file, 'r', 'utf-8') as f_obj:\n",
    "        old_tweet = 0\n",
    "        for line in f_obj:\n",
    "            f_count += 1\n",
    "            line = line.split('\\t')\n",
    "            if len(line) == 2:\n",
    "                tweet_count += 1\n",
    "                tweet_text[int(line[0].strip())] = str(line[1].strip().rstrip('\\r\\n').replace('\\n',''))\n",
    "                tweet_domain[int(line[0].strip())] = os.path.basename(file).replace('.tsv','')\n",
    "                old_tweet = int(line[0].strip())\n",
    "            elif type(line[0]) == str:\n",
    "                if old_tweet in tweet_text.keys():\n",
    "                    tweet_text[old_tweet] = tweet_text[old_tweet] + ' '+str(line[0].strip().rstrip('\\r\\n').replace('\\n',''))\n",
    "    print(tweet_count)\n",
    "    print(f_count)\n",
    "                \n",
    "                \n",
    "    "
   ]
  },
  {
   "cell_type": "code",
   "execution_count": 24,
   "metadata": {},
   "outputs": [
    {
     "name": "stdout",
     "output_type": "stream",
     "text": [
      "946588761865048064 @MichaelEMann @climateone @cwclub @GlobalEcoGuy Great stuff Michael. It was great meeting you at #AGU17!!\n",
      "946606780271996928 \"Although there were many excellent sessions, the one that I would say surprised me the most (in terms of what I learned) was the Friday session U52B: American Geophysical Union Literature Review.\" #AGU17 By @guertin via #AGUblogs https://t.co/uXSNLveueN\n",
      "946758755198406657 ICYMI: The best conversation I overheard #AGU17  @Geo_Miles: “Plus Batman drives around a car that literally shoots fire out the back. That has to be terrible for the environment.” Meteorologist Sim Jones: “And the Batmobile is definitely not a hybrid.” https://t.co/6MDT9X8ye5\n",
      "946782207003082757 One day at out #AGU17 booth.  https://t.co/cUARkaH2Cf\n"
     ]
    }
   ],
   "source": [
    "count = 0\n",
    "for k,v in tweet_text.items():\n",
    "    print(k,v)\n",
    "    count += 1\n",
    "    if count > 3:\n",
    "        break"
   ]
  },
  {
   "cell_type": "code",
   "execution_count": 25,
   "metadata": {},
   "outputs": [
    {
     "name": "stdout",
     "output_type": "stream",
     "text": [
      "946588761865048064 agu17\n",
      "946606780271996928 agu17\n",
      "946758755198406657 agu17\n",
      "946782207003082757 agu17\n"
     ]
    }
   ],
   "source": [
    "count = 0\n",
    "for k,v in tweet_domain.items():\n",
    "    print(k,v)\n",
    "    count += 1\n",
    "    if count > 3:\n",
    "        break"
   ]
  },
  {
   "cell_type": "code",
   "execution_count": 17,
   "metadata": {},
   "outputs": [
    {
     "data": {
      "text/plain": [
       "9849"
      ]
     },
     "execution_count": 17,
     "metadata": {},
     "output_type": "execute_result"
    }
   ],
   "source": [
    "len(tweet_text.keys())"
   ]
  },
  {
   "cell_type": "code",
   "execution_count": 30,
   "metadata": {},
   "outputs": [],
   "source": [
    "import os\n",
    "text_path = '/Users/aggarwalpiush/github_repos/tweetnewsdetection/data/step_one/classification_data/texts'\n",
    "domain_path = '/Users/aggarwalpiush/github_repos/tweetnewsdetection/data/step_one/classification_data/domain_dataset'\n",
    "for tw in labels.keys():\n",
    "    with codecs.open(os.path.join(text_path,str(tw)+'.txt'), 'w', 'utf-8') as write_obj:\n",
    "        write_obj.write(tweet_text[tw])\n",
    "    if not os.path.exists(os.path.join(domain_path,str(tweet_domain[tw]))):\n",
    "        os.mkdir(os.path.join(domain_path,str(tweet_domain[tw])))\n",
    "        os.chmod(os.path.join(domain_path,str(tweet_domain[tw])), 0o777)\n",
    "    with codecs.open(os.path.join(domain_path,str(tweet_domain[tw]),str(tw)+'.txt'), 'w', 'utf-8') as write_obj:\n",
    "        write_obj.write(tweet_text[tw])"
   ]
  }
 ],
 "metadata": {
  "kernelspec": {
   "display_name": "Python mlib_demo",
   "language": "python",
   "name": "mlib_demo"
  },
  "language_info": {
   "codemirror_mode": {
    "name": "ipython",
    "version": 3
   },
   "file_extension": ".py",
   "mimetype": "text/x-python",
   "name": "python",
   "nbconvert_exporter": "python",
   "pygments_lexer": "ipython3",
   "version": "3.7.0"
  }
 },
 "nbformat": 4,
 "nbformat_minor": 2
}
