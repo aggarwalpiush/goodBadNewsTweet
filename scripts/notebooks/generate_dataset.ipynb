{
 "cells": [
  {
   "cell_type": "code",
   "execution_count": 1,
   "metadata": {},
   "outputs": [],
   "source": [
    "import codecs\n",
    "import glob\n",
    "from os import path"
   ]
  },
  {
   "cell_type": "code",
   "execution_count": 2,
   "metadata": {},
   "outputs": [],
   "source": [
    "label_path = '/Users/aggarwalpiush/github_repos/tweetnewsdetection/data/step_one/classification_data/labels/labels.txt'\n",
    "tweet_path = '/Users/aggarwalpiush/github_repos/tweetnewsdetection/data/step_one/classification_data/text'\n",
    "dataset_path = '/Users/aggarwalpiush/github_repos/tweetnewsdetection/data/step_one/classification_data/news_notnews.tsv'"
   ]
  },
  {
   "cell_type": "code",
   "execution_count": 4,
   "metadata": {},
   "outputs": [],
   "source": [
    "label_to_dict = {}\n",
    "with codecs.open(label_path, 'r', 'utf-8') as label_read_obj:\n",
    "    for line in label_read_obj:\n",
    "        tokens = line.split('\\t')\n",
    "        label_to_dict[int(tokens[0].strip().rstrip('\\r\\n').replace('\\n',''))] = int(tokens[1].strip().rstrip('\\r\\n').replace('\\n',''))"
   ]
  },
  {
   "cell_type": "code",
   "execution_count": 12,
   "metadata": {},
   "outputs": [],
   "source": [
    "with codecs.open(dataset_path, 'w', 'utf-8') as ds_write_obj:\n",
    "    for tweet_file in glob.glob(tweet_path + '/*'):\n",
    "        tweet_text = []\n",
    "        tweet_id = int(path.basename(tweet_file).replace('.txt',''))\n",
    "        with codecs.open(tweet_file, 'r', 'utf-8') as tf_obj:\n",
    "            for line in tf_obj:\n",
    "                tweet_text.append(line.strip().rstrip('\\r\\n').replace('\\n',''))\n",
    "        ds_write_obj.write(str(tweet_id) + '\\t' + ' '.join(tweet_text)+'\\t'+ str(label_to_dict[tweet_id])+'\\n')"
   ]
  }
 ],
 "metadata": {
  "kernelspec": {
   "display_name": "Python mlib_demo",
   "language": "python",
   "name": "mlib_demo"
  },
  "language_info": {
   "codemirror_mode": {
    "name": "ipython",
    "version": 3
   },
   "file_extension": ".py",
   "mimetype": "text/x-python",
   "name": "python",
   "nbconvert_exporter": "python",
   "pygments_lexer": "ipython3",
   "version": "3.7.0"
  }
 },
 "nbformat": 4,
 "nbformat_minor": 2
}
