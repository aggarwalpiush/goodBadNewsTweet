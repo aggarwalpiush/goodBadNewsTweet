{
 "cells": [
  {
   "cell_type": "code",
   "execution_count": 2,
   "metadata": {},
   "outputs": [],
   "source": [
    "import codecs\n",
    "from classes.agreement_confidence import ConfidentIAA\n",
    "import numpy as np\n",
    "from collections import Counter"
   ]
  },
  {
   "cell_type": "code",
   "execution_count": 1,
   "metadata": {},
   "outputs": [],
   "source": [
    "input_file = '/Users/aggarwalpiush/github_repos/tweetnewsdetection/data/step_two/labelled/v2/ann_with_confidence.csv'"
   ]
  },
  {
   "cell_type": "code",
   "execution_count": 3,
   "metadata": {},
   "outputs": [],
   "source": [
    "in_data_list = []\n",
    "with codecs.open(input_file, 'r', 'utf-8') as in_obj:\n",
    "    for i,data in enumerate(in_obj):\n",
    "        if i == 0:\n",
    "            continue\n",
    "        data_array = data.rstrip('\\r\\n').split(',')\n",
    "        data_array[1] = 0 if data_array[1]== 'deny' else 1\n",
    "        data_array[2] = data_array[2].replace('-','0')\n",
    "        data_array[2] = data_array[2].replace('\\\\','')\n",
    "        data_array[2] = data_array[2].replace('p','0')\n",
    "        if not data_array[2].isdigit():\n",
    "            data_array[2] = 50 \n",
    "        data_array[2] = int(data_array[2])\n",
    "        in_data_list.append(data_array)\n"
   ]
  },
  {
   "cell_type": "code",
   "execution_count": 4,
   "metadata": {},
   "outputs": [
    {
     "data": {
      "text/plain": [
       "[['2197584103', 0, 80],\n",
       " ['2197584101', 0, 80],\n",
       " ['2197584102', 1, 80],\n",
       " ['2197584100', 0, 80],\n",
       " ['2197584105', 0, 80],\n",
       " ['2197584104', 0, 80],\n",
       " ['2197584107', 0, 80],\n",
       " ['2197584106', 0, 80],\n",
       " ['2197584110', 0, 80],\n",
       " ['2197584108', 1, 80]]"
      ]
     },
     "execution_count": 4,
     "metadata": {},
     "output_type": "execute_result"
    }
   ],
   "source": [
    "in_data_list[:10]"
   ]
  },
  {
   "cell_type": "code",
   "execution_count": 5,
   "metadata": {},
   "outputs": [
    {
     "name": "stdout",
     "output_type": "stream",
     "text": [
      "7823\n"
     ]
    }
   ],
   "source": [
    "print(len(in_data_list))"
   ]
  },
  {
   "cell_type": "code",
   "execution_count": 12,
   "metadata": {},
   "outputs": [],
   "source": [
    "get_iaa = ConfidentIAA(in_data_list, 3)"
   ]
  },
  {
   "cell_type": "code",
   "execution_count": 13,
   "metadata": {},
   "outputs": [
    {
     "name": "stdout",
     "output_type": "stream",
     "text": [
      "[[1, 90], [1, 50]]\n",
      "[[1, 90], [1, 50]]\n",
      "[[1, 50], [1, 70]]\n",
      "[[1, 100], [1, 100]]\n",
      "[[1, 100], [1, 50]]\n",
      "[[1, 100], [1, 50]]\n",
      "[[1, 100], [1, 80]]\n",
      "[[1, 100], [1, 100]]\n",
      "[[1, 100], [1, 100]]\n",
      "[[1, 100], [1, 100]]\n",
      "[[1, 90], [1, 100]]\n"
     ]
    }
   ],
   "source": [
    "test1 = get_iaa.get_annotators()"
   ]
  },
  {
   "cell_type": "code",
   "execution_count": 14,
   "metadata": {},
   "outputs": [
    {
     "data": {
      "text/plain": [
       "2201"
      ]
     },
     "execution_count": 14,
     "metadata": {},
     "output_type": "execute_result"
    }
   ],
   "source": [
    "len(test1.keys())"
   ]
  },
  {
   "cell_type": "code",
   "execution_count": 15,
   "metadata": {},
   "outputs": [
    {
     "name": "stdout",
     "output_type": "stream",
     "text": [
      "2197584103 [[0, 80], [0, 1100], [0, 100]]\n",
      "2197584101 [[0, 80], [0, 80], [1, 65], [1, 85], [1, 70], [1, 100], [1, 100]]\n",
      "2197584102 [[1, 80], [0, 90], [0, 90], [1, 85], [0, 50], [1, 25], [1, 100]]\n",
      "2197584100 [[0, 80], [0, 100], [0, 100]]\n",
      "2197584105 [[0, 80], [0, 100], [0, 100]]\n",
      "2197584104 [[0, 80], [0, 90], [1, 50], [1, 60], [1, 100], [1, 100], [0, 70]]\n",
      "2197584107 [[0, 80], [0, 100], [0, 100]]\n",
      "2197584106 [[0, 80], [0, 100], [0, 90]]\n",
      "2197584110 [[0, 80], [0, 98], [0, 20]]\n",
      "2197584108 [[1, 80], [1, 100], [1, 85]]\n"
     ]
    }
   ],
   "source": [
    "count = 0\n",
    "for k,v in test1.items():\n",
    "    print(k,v)\n",
    "    count += 1\n",
    "    if count == 10:\n",
    "        break"
   ]
  },
  {
   "cell_type": "code",
   "execution_count": 16,
   "metadata": {},
   "outputs": [
    {
     "name": "stdout",
     "output_type": "stream",
     "text": [
      "[[1, 90], [1, 50]]\n",
      "[[1, 90], [1, 50]]\n",
      "[[1, 50], [1, 70]]\n",
      "[[1, 100], [1, 100]]\n",
      "[[1, 100], [1, 50]]\n",
      "[[1, 100], [1, 50]]\n",
      "[[1, 100], [1, 80]]\n",
      "[[1, 100], [1, 100]]\n",
      "[[1, 100], [1, 100]]\n",
      "[[1, 100], [1, 100]]\n",
      "[[1, 90], [1, 100]]\n"
     ]
    }
   ],
   "source": [
    "test2 = get_iaa.get_best_annotators()"
   ]
  },
  {
   "cell_type": "code",
   "execution_count": 17,
   "metadata": {},
   "outputs": [
    {
     "ename": "TypeError",
     "evalue": "unhashable type: 'slice'",
     "output_type": "error",
     "traceback": [
      "\u001b[0;31m---------------------------------------------------------------------------\u001b[0m",
      "\u001b[0;31mTypeError\u001b[0m                                 Traceback (most recent call last)",
      "\u001b[0;32m<ipython-input-17-ca4e236adfa3>\u001b[0m in \u001b[0;36m<module>\u001b[0;34m\u001b[0m\n\u001b[0;32m----> 1\u001b[0;31m \u001b[0mtest2\u001b[0m\u001b[0;34m[\u001b[0m\u001b[0;34m:\u001b[0m\u001b[0;36m10\u001b[0m\u001b[0;34m]\u001b[0m\u001b[0;34m\u001b[0m\u001b[0m\n\u001b[0m",
      "\u001b[0;31mTypeError\u001b[0m: unhashable type: 'slice'"
     ]
    }
   ],
   "source": [
    "test2[:10]"
   ]
  },
  {
   "cell_type": "code",
   "execution_count": 18,
   "metadata": {},
   "outputs": [
    {
     "data": {
      "text/plain": [
       "2201"
      ]
     },
     "execution_count": 18,
     "metadata": {},
     "output_type": "execute_result"
    }
   ],
   "source": [
    "len(test2.keys())"
   ]
  },
  {
   "cell_type": "code",
   "execution_count": null,
   "metadata": {},
   "outputs": [],
   "source": []
  },
  {
   "cell_type": "code",
   "execution_count": 74,
   "metadata": {},
   "outputs": [
    {
     "name": "stdout",
     "output_type": "stream",
     "text": [
      "2178477838 [1, 1, 1]\n",
      "2178477840 [0, 0, 1]\n",
      "2178477837 [0, 0, 0]\n",
      "2178477839 [1, 1, 1]\n",
      "2178477841 [1, 1, 1]\n",
      "2178477842 [1, 1, 1]\n",
      "2178477844 [1, 1, 1]\n",
      "2178477843 [0, 0, 0]\n",
      "2178477848 [0, 0, 0]\n",
      "2178477847 [0, 1, 0]\n"
     ]
    }
   ],
   "source": [
    "count = 0\n",
    "for k,v in test2.items():\n",
    "    print(k,v)\n",
    "    count += 1\n",
    "    if count == 10:\n",
    "        break"
   ]
  },
  {
   "cell_type": "code",
   "execution_count": 86,
   "metadata": {},
   "outputs": [
    {
     "name": "stdout",
     "output_type": "stream",
     "text": [
      "2178477838\n",
      "Counter({1: 3})\n",
      "1\n",
      "2178477840\n",
      "Counter({0: 2, 1: 1})\n",
      "0\n",
      "2178477837\n",
      "Counter({0: 3})\n",
      "0\n",
      "2178477839\n",
      "Counter({1: 3})\n",
      "1\n",
      "2178477841\n",
      "Counter({1: 3})\n",
      "1\n",
      "2178477842\n",
      "Counter({1: 3})\n",
      "1\n",
      "2178477844\n",
      "Counter({1: 3})\n",
      "1\n",
      "2178477843\n",
      "Counter({0: 3})\n",
      "0\n",
      "2178477848\n",
      "Counter({0: 3})\n",
      "0\n",
      "2178477847\n",
      "Counter({0: 2, 1: 1})\n",
      "0\n"
     ]
    }
   ],
   "source": [
    "count = 0\n",
    "for k,v in test2.items():\n",
    "    print(k)\n",
    "    cnt = Counter(v)\n",
    "    print(cnt)\n",
    "    print(max(cnt, key=lambda k: cnt[k]))\n",
    "    count += 1\n",
    "    if count == 10:\n",
    "        break"
   ]
  },
  {
   "cell_type": "code",
   "execution_count": 87,
   "metadata": {},
   "outputs": [
    {
     "name": "stdout",
     "output_type": "stream",
     "text": [
      "681\n"
     ]
    }
   ],
   "source": [
    "count = 0\n",
    "for k,v in test2.items():\n",
    "    cnt = Counter(v)\n",
    "    if len(cnt.keys()) > 1:\n",
    "        count += 1\n",
    "print(count)"
   ]
  },
  {
   "cell_type": "code",
   "execution_count": 75,
   "metadata": {},
   "outputs": [
    {
     "name": "stdout",
     "output_type": "stream",
     "text": [
      "[[0 3]\n",
      " [2 1]\n",
      " [3 0]\n",
      " ...\n",
      " [0 3]\n",
      " [0 3]\n",
      " [0 3]]\n"
     ]
    },
    {
     "data": {
      "text/plain": [
       "{'Fleiss Kappa Score': 0.7530110109698172,\n",
       " 'Average Cohen Kappa': 0.87507873716069,\n",
       " 'Cohen kappa Annotator 0': 0.8723083480398891,\n",
       " 'Cohen kappa Annotator 1': 0.8600176015514661,\n",
       " 'Cohen kappa Annotator 2': 0.8929102618907145}"
      ]
     },
     "execution_count": 75,
     "metadata": {},
     "output_type": "execute_result"
    }
   ],
   "source": [
    "get_iaa.get_kappas()"
   ]
  },
  {
   "cell_type": "code",
   "execution_count": null,
   "metadata": {},
   "outputs": [],
   "source": []
  },
  {
   "cell_type": "code",
   "execution_count": 76,
   "metadata": {},
   "outputs": [
    {
     "name": "stdout",
     "output_type": "stream",
     "text": [
      "5000\n"
     ]
    }
   ],
   "source": [
    "print(len(get_iaa.get_annotators().keys()))"
   ]
  }
 ],
 "metadata": {
  "kernelspec": {
   "display_name": "Python mlib_demo",
   "language": "python",
   "name": "mlib_demo"
  },
  "language_info": {
   "codemirror_mode": {
    "name": "ipython",
    "version": 3
   },
   "file_extension": ".py",
   "mimetype": "text/x-python",
   "name": "python",
   "nbconvert_exporter": "python",
   "pygments_lexer": "ipython3",
   "version": "3.7.0"
  }
 },
 "nbformat": 4,
 "nbformat_minor": 2
}
