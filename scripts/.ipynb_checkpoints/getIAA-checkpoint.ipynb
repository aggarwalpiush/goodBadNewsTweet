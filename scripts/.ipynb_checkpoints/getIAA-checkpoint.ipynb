{
 "cells": [
  {
   "cell_type": "code",
   "execution_count": 62,
   "metadata": {},
   "outputs": [],
   "source": [
    "import codecs\n",
    "from classes.agreement_confidence import ConfidentIAA"
   ]
  },
  {
   "cell_type": "code",
   "execution_count": 63,
   "metadata": {},
   "outputs": [],
   "source": [
    "input_file = '/Users/aggarwalpiush/github_repos/tweetnewsdetection/data/step_two/labelled/v1/annotate_with_conf.csv'"
   ]
  },
  {
   "cell_type": "code",
   "execution_count": 64,
   "metadata": {},
   "outputs": [],
   "source": [
    "in_data_list = []\n",
    "with codecs.open(input_file, 'r', 'utf-8') as in_obj:\n",
    "    for i,data in enumerate(in_obj):\n",
    "        if i == 0:\n",
    "            continue\n",
    "        data_array = data.rstrip('\\r\\n').split(',')\n",
    "        data_array[1] = 0 if data_array[1]== 'deny' else 1\n",
    "        data_array[2] = data_array[2].replace('-','0')\n",
    "        data_array[2] = data_array[2].replace('\\\\','')\n",
    "        data_array[2] = data_array[2].replace('p','0')\n",
    "        if not data_array[2].isdigit():\n",
    "            data_array[2] = 50 \n",
    "        data_array[2] = int(data_array[2])\n",
    "        in_data_list.append(data_array)\n"
   ]
  },
  {
   "cell_type": "code",
   "execution_count": 65,
   "metadata": {},
   "outputs": [
    {
     "data": {
      "text/plain": [
       "[['2178477838', 1, 70],\n",
       " ['2178477840', 0, 60],\n",
       " ['2178477837', 0, 80],\n",
       " ['2178477839', 1, 80],\n",
       " ['2178477839', 1, 100],\n",
       " ['2178477840', 1, 50],\n",
       " ['2178477838', 1, 100],\n",
       " ['2178477837', 0, 100],\n",
       " ['2178477841', 1, 55],\n",
       " ['2178477842', 1, 60]]"
      ]
     },
     "execution_count": 65,
     "metadata": {},
     "output_type": "execute_result"
    }
   ],
   "source": [
    "in_data_list[:10]"
   ]
  },
  {
   "cell_type": "code",
   "execution_count": 66,
   "metadata": {},
   "outputs": [
    {
     "name": "stdout",
     "output_type": "stream",
     "text": [
      "16850\n"
     ]
    }
   ],
   "source": [
    "print(len(in_data_list))"
   ]
  },
  {
   "cell_type": "code",
   "execution_count": 67,
   "metadata": {},
   "outputs": [],
   "source": [
    "get_iaa = ConfidentIAA(in_data_list, 3)"
   ]
  },
  {
   "cell_type": "code",
   "execution_count": 68,
   "metadata": {},
   "outputs": [],
   "source": [
    "test1 = get_iaa.get_annotators()"
   ]
  },
  {
   "cell_type": "code",
   "execution_count": 69,
   "metadata": {},
   "outputs": [
    {
     "data": {
      "text/plain": [
       "5000"
      ]
     },
     "execution_count": 69,
     "metadata": {},
     "output_type": "execute_result"
    }
   ],
   "source": [
    "len(test1.keys())"
   ]
  },
  {
   "cell_type": "code",
   "execution_count": 70,
   "metadata": {},
   "outputs": [
    {
     "name": "stdout",
     "output_type": "stream",
     "text": [
      "2178477838 [[1, 70], [1, 100], [1, 75]]\n",
      "2178477840 [[0, 60], [1, 50], [0, 50], [1, 100], [0, 50], [0, 40], [0, 80]]\n",
      "2178477837 [[0, 80], [0, 100], [0, 75]]\n",
      "2178477839 [[1, 80], [1, 100], [1, 100]]\n",
      "2178477841 [[1, 55], [1, 100], [0, 50], [1, 100]]\n",
      "2178477842 [[1, 60], [1, 90], [1, 50]]\n",
      "2178477844 [[1, 60], [1, 100], [1, 75]]\n",
      "2178477843 [[0, 70], [0, 100], [0, 75]]\n",
      "2178477848 [[0, 50], [0, 100], [0, 50]]\n",
      "2178477847 [[1, 50], [1, 100], [0, 50], [0, 100], [1, 65], [1, 60], [0, 80]]\n"
     ]
    }
   ],
   "source": [
    "count = 0\n",
    "for k,v in test1.items():\n",
    "    print(k,v)\n",
    "    count += 1\n",
    "    if count == 10:\n",
    "        break"
   ]
  },
  {
   "cell_type": "code",
   "execution_count": 71,
   "metadata": {},
   "outputs": [],
   "source": [
    "test2 = get_iaa.get_best_annotators()"
   ]
  },
  {
   "cell_type": "code",
   "execution_count": 77,
   "metadata": {},
   "outputs": [
    {
     "ename": "TypeError",
     "evalue": "unhashable type: 'slice'",
     "output_type": "error",
     "traceback": [
      "\u001b[0;31m---------------------------------------------------------------------------\u001b[0m",
      "\u001b[0;31mTypeError\u001b[0m                                 Traceback (most recent call last)",
      "\u001b[0;32m<ipython-input-77-ca4e236adfa3>\u001b[0m in \u001b[0;36m<module>\u001b[0;34m\u001b[0m\n\u001b[0;32m----> 1\u001b[0;31m \u001b[0mtest2\u001b[0m\u001b[0;34m[\u001b[0m\u001b[0;34m:\u001b[0m\u001b[0;36m10\u001b[0m\u001b[0;34m]\u001b[0m\u001b[0;34m\u001b[0m\u001b[0m\n\u001b[0m",
      "\u001b[0;31mTypeError\u001b[0m: unhashable type: 'slice'"
     ]
    }
   ],
   "source": [
    "test2[:10]"
   ]
  },
  {
   "cell_type": "code",
   "execution_count": 72,
   "metadata": {},
   "outputs": [
    {
     "data": {
      "text/plain": [
       "5000"
      ]
     },
     "execution_count": 72,
     "metadata": {},
     "output_type": "execute_result"
    }
   ],
   "source": [
    "len(test2.keys())"
   ]
  },
  {
   "cell_type": "code",
   "execution_count": null,
   "metadata": {},
   "outputs": [],
   "source": []
  },
  {
   "cell_type": "code",
   "execution_count": 74,
   "metadata": {},
   "outputs": [
    {
     "name": "stdout",
     "output_type": "stream",
     "text": [
      "2178477838 [1, 1, 1]\n",
      "2178477840 [0, 0, 1]\n",
      "2178477837 [0, 0, 0]\n",
      "2178477839 [1, 1, 1]\n",
      "2178477841 [1, 1, 1]\n",
      "2178477842 [1, 1, 1]\n",
      "2178477844 [1, 1, 1]\n",
      "2178477843 [0, 0, 0]\n",
      "2178477848 [0, 0, 0]\n",
      "2178477847 [0, 1, 0]\n"
     ]
    }
   ],
   "source": [
    "count = 0\n",
    "for k,v in test2.items():\n",
    "    print(k,v)\n",
    "    count += 1\n",
    "    if count == 10:\n",
    "        break"
   ]
  },
  {
   "cell_type": "code",
   "execution_count": null,
   "metadata": {},
   "outputs": [],
   "source": [
    "count = 0\n",
    "for k,v in test2.items():\n",
    "    print(np.max(v))\n",
    "    count += 1\n",
    "    if count == 10:\n",
    "        break"
   ]
  },
  {
   "cell_type": "code",
   "execution_count": 75,
   "metadata": {},
   "outputs": [
    {
     "name": "stdout",
     "output_type": "stream",
     "text": [
      "[[0 3]\n",
      " [2 1]\n",
      " [3 0]\n",
      " ...\n",
      " [0 3]\n",
      " [0 3]\n",
      " [0 3]]\n"
     ]
    },
    {
     "data": {
      "text/plain": [
       "{'Fleiss Kappa Score': 0.7530110109698172,\n",
       " 'Average Cohen Kappa': 0.87507873716069,\n",
       " 'Cohen kappa Annotator 0': 0.8723083480398891,\n",
       " 'Cohen kappa Annotator 1': 0.8600176015514661,\n",
       " 'Cohen kappa Annotator 2': 0.8929102618907145}"
      ]
     },
     "execution_count": 75,
     "metadata": {},
     "output_type": "execute_result"
    }
   ],
   "source": [
    "get_iaa.get_kappas()"
   ]
  },
  {
   "cell_type": "code",
   "execution_count": null,
   "metadata": {},
   "outputs": [],
   "source": []
  },
  {
   "cell_type": "code",
   "execution_count": 76,
   "metadata": {},
   "outputs": [
    {
     "name": "stdout",
     "output_type": "stream",
     "text": [
      "5000\n"
     ]
    }
   ],
   "source": [
    "print(len(get_iaa.get_annotators().keys()))"
   ]
  }
 ],
 "metadata": {
  "kernelspec": {
   "display_name": "Python mlib_demo",
   "language": "python",
   "name": "mlib_demo"
  },
  "language_info": {
   "codemirror_mode": {
    "name": "ipython",
    "version": 3
   },
   "file_extension": ".py",
   "mimetype": "text/x-python",
   "name": "python",
   "nbconvert_exporter": "python",
   "pygments_lexer": "ipython3",
   "version": "3.7.0"
  }
 },
 "nbformat": 4,
 "nbformat_minor": 2
}
