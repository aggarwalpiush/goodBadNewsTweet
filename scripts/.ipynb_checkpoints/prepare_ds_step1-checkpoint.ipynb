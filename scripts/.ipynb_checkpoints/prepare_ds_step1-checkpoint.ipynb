{
 "cells": [
  {
   "cell_type": "code",
   "execution_count": null,
   "metadata": {},
   "outputs": [],
   "source": [
    "import codecs"
   ]
  },
  {
   "cell_type": "code",
   "execution_count": null,
   "metadata": {},
   "outputs": [],
   "source": [
    "input_file = '/Users/aggarwalpiush/github_repos/tweetnewsdetection/data/step_one/classification_data/labels/labels.txt'\n",
    "labels = \n",
    "with codecs.open(input_file, 'r', 'utf-8') as in_obj:\n",
    "    for line in in_obj:\n",
    "        line = line.split('\\t')\n",
    "        "
   ]
  }
 ],
 "metadata": {
  "kernelspec": {
   "display_name": "Python mlib_demo",
   "language": "python",
   "name": "mlib_demo"
  },
  "language_info": {
   "codemirror_mode": {
    "name": "ipython",
    "version": 3
   },
   "file_extension": ".py",
   "mimetype": "text/x-python",
   "name": "python",
   "nbconvert_exporter": "python",
   "pygments_lexer": "ipython3",
   "version": "3.7.0"
  }
 },
 "nbformat": 4,
 "nbformat_minor": 2
}
